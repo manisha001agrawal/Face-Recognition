{
 "cells": [
  {
   "cell_type": "code",
   "execution_count": 1,
   "metadata": {},
   "outputs": [],
   "source": [
    "import cv2\n",
    "import time\n",
    "import numpy as np\n",
    "from os import listdir\n",
    "from os.path import isfile, join"
   ]
  },
  {
   "cell_type": "code",
   "execution_count": 2,
   "metadata": {},
   "outputs": [],
   "source": [
    "# detect face in photo\n",
    "def face_detect(photo):\n",
    "    # face detection in photo\n",
    "    model = cv2.CascadeClassifier('haarcascade_frontalface_default.xml')\n",
    "    face= model.detectMultiScale(photo)\n",
    "\n",
    "    if len(face) == 0:\n",
    "        print(\"No face detected\")\n",
    "        return\n",
    "    else:\n",
    "        x1 = face[0][0]\n",
    "        y1 = face[0][1]\n",
    "        x2 = face[0][2]\n",
    "        y2 = face[0][3]\n",
    "        photo = cv2.cvtColor(photo, cv2.COLOR_BGR2GRAY)\n",
    "        crop_photo = photo[y1:y1+y2,x1:x1+x2]     \n",
    "        crop_photo = cv2.resize(crop_photo,(200,200))\n",
    "        \n",
    "        return crop_photo "
   ]
  },
  {
   "cell_type": "code",
   "execution_count": 3,
   "metadata": {},
   "outputs": [],
   "source": [
    "import smtplib\n",
    "# And imghdr to find the types of our images\n",
    "import imghdr\n",
    "\n",
    "# Here are the email package modules we'll need\n",
    "from email.message import EmailMessage\n",
    "import PersonalDetails as p\n",
    "import importlib\n",
    "importlib.reload(p)\n",
    "\n",
    "# Create the container email message.\n",
    "def send_email():\n",
    "    \n",
    "    msg1 = EmailMessage()\n",
    "    msg1['From'] = p.sender_email()\n",
    "    msg1['To'] = p.Receiver_email()\n",
    "    msg1['Subject'] = 'Face Recognition'\n",
    "    msg1['Body']  = 'This is face of Manisha'\n",
    "    #msg1.attach(text)\n",
    "    with open('image.png', 'rb') as fp:\n",
    "        img_data = fp.read()\n",
    "        img_type = imghdr.what(fp.name)\n",
    "        img_name = fp.name\n",
    "    msg1.add_attachment(img_data,maintype='image',subtype=img_type)\n",
    "\n",
    "    # Send the email via our own SMTP server.\n",
    "    with smtplib.SMTP_SSL('smtp.gmail.com', 465) as s:\n",
    "        s.login(p.sender_email(),p.Password())\n",
    "        s.send_message(msg1)\n",
    "    return True"
   ]
  },
  {
   "cell_type": "code",
   "execution_count": 4,
   "metadata": {},
   "outputs": [],
   "source": [
    "# send whatsapp mess\n",
    "def whatsapp():    \n",
    "    import pywhatkit as kit\n",
    "    import PersonalDetails as p\n",
    "    import importlib\n",
    "    importlib.reload(p)\n",
    "    text=\"Successfully complete the task 6\"\n",
    "    kit.sendwhatmsg_instantly(p.Whatsapp_no(),text,2)\n",
    "    return True"
   ]
  },
  {
   "cell_type": "code",
   "execution_count": 5,
   "metadata": {},
   "outputs": [
    {
     "name": "stdout",
     "output_type": "stream",
     "text": [
      "Successful Dataset created\n"
     ]
    }
   ],
   "source": [
    "# collect data set\n",
    "count =1\n",
    "cap = cv2.VideoCapture(0)\n",
    "while True:\n",
    "    ret, photo = cap.read()\n",
    "    #cap.release()\n",
    "    crop_photo = face_detect(photo)\n",
    "    if crop_photo is not None:\n",
    "        crop_photo = cv2.putText(crop_photo,str(count),(0, 180),cv2.FONT_HERSHEY_SIMPLEX ,1, (0, 0, 255), 2)\n",
    "\n",
    "        myphoto = \"./faces/manisha{}.png\".format(count)\n",
    "        cv2.imwrite(myphoto,crop_photo)\n",
    "\n",
    "        cv2.imshow(\"Photo\",crop_photo)\n",
    "        count=count+1\n",
    "        if cv2.waitKey(1)== 13 or count == 151:\n",
    "            cap.release()\n",
    "            break\n",
    "cv2.destroyAllWindows()\n",
    "print(\"Successful Dataset created\")"
   ]
  },
  {
   "cell_type": "code",
   "execution_count": 6,
   "metadata": {},
   "outputs": [
    {
     "name": "stdout",
     "output_type": "stream",
     "text": [
      "Model trained sucessefully....\n"
     ]
    }
   ],
   "source": [
    "dataset = './faces/'\n",
    "images = [img for img in listdir(dataset) if isfile(join(dataset, img))]\n",
    "\n",
    "# Create arrays for training data and labels\n",
    "Training_Data, Labels = [], []\n",
    "\n",
    "# Open training images in our datapath\n",
    "# Create a numpy array for training data\n",
    "for i, files in enumerate(images):\n",
    "    image_path = dataset + images[i]\n",
    "    image = cv2.imread(image_path, cv2.IMREAD_GRAYSCALE)\n",
    "    Training_Data.append(np.asarray(image, dtype=np.uint8))\n",
    "    Labels.append(i)\n",
    "\n",
    "# Create a numpy array for both training data and labels\n",
    "Labels = np.asarray(Labels, dtype=np.int32)\n",
    "\n",
    "#model  = cv2.face_LBPHFaceRecognizer.create()\n",
    "model = cv2.face.LBPHFaceRecognizer_create()\n",
    "\n",
    "# Let's train our model \n",
    "model.train(np.asarray(Training_Data), np.asarray(Labels))\n",
    "print(\"Model trained sucessefully....\")"
   ]
  },
  {
   "cell_type": "code",
   "execution_count": 7,
   "metadata": {},
   "outputs": [],
   "source": [
    "#if photo not found\n",
    "import os,subprocess\n",
    "def launch_ec2():\n",
    "    os.system('aws ec2 run-instances --image-id ami-0ad704c126371a549 --count 1 --instance-type t2.micro --key-name Mynewkey --security-group-ids sg-0d5dec3dfdecf3be6')\n",
    "    return "
   ]
  },
  {
   "cell_type": "code",
   "execution_count": 8,
   "metadata": {},
   "outputs": [],
   "source": [
    "def ebs_volume():\n",
    "    az = subprocess.getoutput('aws ec2 describe-instances --filters Name=instance-state-name,Values=running --query \"Reservations[].Instances[].Placement.AvailabilityZone\" --output text')\n",
    "    os.system('aws ec2 create-volume --availability-zone  {} --size 5'.format(az))\n",
    "    return "
   ]
  },
  {
   "cell_type": "code",
   "execution_count": 9,
   "metadata": {},
   "outputs": [],
   "source": [
    "def attach_volume():\n",
    "    instance_id = subprocess.getoutput('aws ec2 describe-instances --filters Name=instance-state-name,Values=running --query \"Reservations[].Instances[].InstanceId\" --output text')\n",
    "    volume_id = subprocess.getoutput('aws ec2 describe-volumes --filters Name=size,Values=5 --query \"Volumes[*].VolumeId\" --output text')\n",
    "    time.sleep(20)\n",
    "    os.system('aws ec2 attach-volume --device /dev/sdh --instance-id {} --volume-id {}'.format(instance_id, volume_id))\n",
    "    return "
   ]
  },
  {
   "cell_type": "code",
   "execution_count": 10,
   "metadata": {},
   "outputs": [],
   "source": [
    "def notfound(photo):\n",
    "    cv2.putText(photo, \"Not Match\", (0, 180), cv2.FONT_HERSHEY_COMPLEX, 1, (0,255,0), 2)\n",
    "    cv2.imshow('Not Match', photo )\n",
    "    cv2.waitKey(1)            \n",
    "    time.sleep(5)\n",
    "    cv2.destroyAllWindows()\n",
    "    import os\n",
    "    import subprocess\n",
    "    if launch_ec2() == None:\n",
    "        print(\"Successfully launch ec2 instance\")\n",
    "        time.sleep(30)\n",
    "    if ebs_volume() == None:\n",
    "        print(\"Successfully launch Ebs volume\")\n",
    "        time.sleep(90)\n",
    "    if attach_volume() == None:\n",
    "        print(\"Successfully attached volume\")\n",
    "        time.sleep(10) "
   ]
  },
  {
   "cell_type": "code",
   "execution_count": 11,
   "metadata": {},
   "outputs": [],
   "source": [
    "def detect(photo):\n",
    "    crop_photo =photo\n",
    "    crop_photo = cv2.resize(photo,(200,200))\n",
    "    crop_photo = cv2.cvtColor(crop_photo, cv2.COLOR_BGR2GRAY)\n",
    "    cv2.imshow(\"Photo\",crop_photo)\n",
    "    cv2.waitKey()\n",
    "    cv2.destroyAllWindows()\n",
    "    face_cascade = cv2.CascadeClassifier('haarcascade_frontalface_default.xml')\n",
    "    faces = face_cascade.detectMultiScale(crop_photo)\n",
    "    if len(faces) !=0:\n",
    "        for (x,y,w,h) in faces:\n",
    "            cv2.rectangle(photo,(x,y),(x+w,y+h),(0,255,0),3)\n",
    "            ids,conf = model.predict(crop_photo[y:y+h,x:x+w])\n",
    "            print(\"face detected successfully\")\n",
    "        if conf < 500 :\n",
    "            conf = int( 100 * (1 - (conf/400) ))\n",
    "            print(\"confidence = \",conf,\"%\")\n",
    "        if conf > 70:\n",
    "            cv2.putText(crop_photo, \"Manisha\", (0, 180), cv2.FONT_HERSHEY_COMPLEX, 1, (0,255,0), 2)\n",
    "            cv2.imshow('Face Recognition', crop_photo )\n",
    "            cv2.waitKey(1)            \n",
    "            time.sleep(5)\n",
    "            cv2.destroyAllWindows()\n",
    "            cv2.imwrite('image.png',crop_photo)\n",
    "            if send_email() == True:\n",
    "                time.sleep(5)\n",
    "                print(\"Successfully mailed\")\n",
    "            if whatsapp() == True:\n",
    "                time.sleep(15)\n",
    "                print(\"Successfully send whatsapp mess\")\n",
    "        else:\n",
    "            return crop_photo\n",
    "            \n",
    "    else:\n",
    "        return crop_photo\n",
    "        "
   ]
  },
  {
   "cell_type": "code",
   "execution_count": 12,
   "metadata": {},
   "outputs": [
    {
     "name": "stdout",
     "output_type": "stream",
     "text": [
      "face detected successfully\n",
      "confidence =  77 %\n",
      "Successfully mailed\n",
      "Successfully send whatsapp mess\n"
     ]
    }
   ],
   "source": [
    "cap = cv2.VideoCapture(0)\n",
    "ret, photo = cap.read()\n",
    "cap.release()\n",
    "detect(photo)"
   ]
  },
  {
   "cell_type": "code",
   "execution_count": 13,
   "metadata": {},
   "outputs": [
    {
     "name": "stdout",
     "output_type": "stream",
     "text": [
      "face detected successfully\n",
      "confidence =  65 %\n",
      "Successfully launch ec2 instance\n",
      "Successfully launch Ebs volume\n",
      "Successfully attached volume\n"
     ]
    }
   ],
   "source": [
    "ph = cv2.imread('swastik1.jpg')\n",
    "cv2.imshow(\"hii\",ph)\n",
    "cv2.waitKey()\n",
    "cv2.destroyAllWindows()\n",
    "img = detect(ph)\n",
    "if img.any() != None:\n",
    "    notfound(img)\n"
   ]
  },
  {
   "cell_type": "markdown",
   "metadata": {},
   "source": [
    "Thank you:)"
   ]
  },
  {
   "cell_type": "code",
   "execution_count": null,
   "metadata": {},
   "outputs": [],
   "source": []
  }
 ],
 "metadata": {
  "kernelspec": {
   "display_name": "Python 3",
   "language": "python",
   "name": "python3"
  },
  "language_info": {
   "codemirror_mode": {
    "name": "ipython",
    "version": 3
   },
   "file_extension": ".py",
   "mimetype": "text/x-python",
   "name": "python",
   "nbconvert_exporter": "python",
   "pygments_lexer": "ipython3",
   "version": "3.8.3"
  }
 },
 "nbformat": 4,
 "nbformat_minor": 4
}
